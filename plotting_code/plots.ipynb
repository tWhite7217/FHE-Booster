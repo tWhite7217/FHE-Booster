{
 "cells": [
  {
   "cell_type": "code",
   "execution_count": 2,
   "id": "6e057719-9cfa-40ee-8011-156461aa807f",
   "metadata": {},
   "outputs": [
    {
     "data": {
      "image/png": "[encoded data removed]",
      "text/plain": [
       "<Figure size 700x300 with 1 Axes>"
      ]
     },
     "metadata": {},
     "output_type": "display_data"
    }
   ],
   "source": [
    "import pandas as pd\n",
    "import matplotlib.pyplot as plt\n",
    "from matplotlib.backends.backend_pdf import PdfPages\n",
    "\n",
    "def autolabel(rects, axis, include_decimal):\n",
    "  for rect in rects:\n",
    "      height = rect.get_height()\n",
    "      spec = '%2.1f'\n",
    "      if not include_decimal:\n",
    "        spec = '%d'\n",
    "      if height > 5:\n",
    "          axis.text(rect.get_x() + rect.get_width()/2., 1.02*height, spec % (height), ha='center', va='bottom', fontsize=10)\n",
    "      else:\n",
    "          axis.text(rect.get_x() + rect.get_width()/2., 1.1*height, spec % (height), ha='center', va='bottom', fontsize=10)\n",
    "\n",
    "\n",
    "\n",
    "# filename = 'multipliers_vs_latency_sorted'\n",
    "# df = pd.read_csv(\"multipliers_data_geomean.csv\")\n",
    "# pltsize = (6, 3)\n",
    "# xlabel=\"segments, slack, urgency weights\"\n",
    "# ylabel=\"geometric mean latency (s)\"\n",
    "# ylim = [0,100]\n",
    "\n",
    "# filename = 'multipliers_vs_bootstraps'\n",
    "# df = pd.read_csv(\"multipliers_bootstraps_geomean.csv\")\n",
    "# pltsize = (6, 3)\n",
    "# xlabel=\"segments, slack, urgency weights\"\n",
    "# ylabel=\"geometric mean # of bootstraps\"\n",
    "# ylim = [0,30]\n",
    "\n",
    "# filename = 'heuristic_vs_latency'     \n",
    "# df = pd.read_csv(\"heuristic_type_data_geomean.csv\")\n",
    "# pltsize = (4, 3)\n",
    "# xlabel=\"heuristic type\"\n",
    "# ylabel=\"geometric mean latency (s)\"\n",
    "# ylim = [0,100]\n",
    "\n",
    "# filename = 'heuristic_vs_bootstraps'     \n",
    "# df = pd.read_csv(\"heuristic_bootstraps_geomean.csv\")\n",
    "# pltsize = (4, 3)\n",
    "# xlabel=\"heuristic type\"\n",
    "# ylabel=\"geometric mean # of bootstraps\"\n",
    "# ylim = [0,30]\n",
    "\n",
    "# filename = 'normalized_lr_vs_latency'     \n",
    "# df = pd.read_csv(\"normalized_benchmark_latencies.csv\")\n",
    "# pltsize = (7, 3)\n",
    "# title=\"Logistic Regression Execution Time\"\n",
    "# xlabel=\"heuristic\"\n",
    "# ylabel=\"geometric mean latency (s)\"\n",
    "# ylim = [0,70]\n",
    "# include_decimal = True\n",
    "\n",
    "filename = 'normalized_lr_vs_bootstraps'     \n",
    "df = pd.read_csv(\"normalized_benchmark_bootstraps.csv\")\n",
    "pltsize = (7, 3)\n",
    "title=\"Logistic Regression Number of Bootstraps\"\n",
    "xlabel=\"heuristic\"\n",
    "ylabel=\"# of bootstraps\"\n",
    "ylim = [0,30]\n",
    "include_decimal = False\n",
    "\n",
    "# filename = 'normalized_random_vs_latency'     \n",
    "# df = pd.read_csv(\"normalized_random_latencies.csv\")\n",
    "# pltsize = (7, 3)\n",
    "# title=\"Synthetic FHE Execution Time\"\n",
    "# xlabel=\"heuristic\"\n",
    "# ylabel=\"geometric mean latency (s)\"\n",
    "# ylim = [0,100]\n",
    "# include_decimal = True\n",
    "\n",
    "# filename = 'normalized_random_vs_bootstraps'     \n",
    "# df = pd.read_csv(\"normalized_random_bootstraps.csv\")\n",
    "# pltsize = (7, 3)\n",
    "# title=\"Synthetic FHE Number of Bootstraps\"\n",
    "# xlabel=\"heuristic\"\n",
    "# ylabel=\"# of bootstraps\"\n",
    "# ylim = [0,30]\n",
    "# include_decimal = True\n",
    "\n",
    "\n",
    "pdf = PdfPages(filename + '.pdf')\n",
    "\n",
    "avg_times = df[\"time\"]\n",
    "\n",
    "left = [i for i in range(len(avg_times))]\n",
    "\n",
    "labels = df[\"multipliers\"]\n",
    "fig = plt.figure(figsize=pltsize)\n",
    "ax = plt.gca()\n",
    "ax.set_ylim(ylim)\n",
    "rects = plt.bar(left, avg_times, color='springgreen', edgecolor='black', tick_label=labels, width=0.4)\n",
    "autolabel(rects, ax, include_decimal)\n",
    "plt.title(title)\n",
    "plt.xlabel(xlabel)\n",
    "plt.ylabel(ylabel)\n",
    "plt.tight_layout()\n",
    "plt.savefig(filename + \".png\",dpi=300, bbox_inches=\"tight\", pad_inches=0.03)\n",
    "pdf.savefig()\n",
    "pdf.close()"
   ]
  },
  {
   "cell_type": "code",
   "execution_count": null,
   "id": "1dbb7b52-7102-42c4-be9f-05236195faa6",
   "metadata": {},
   "outputs": [],
   "source": []
  },
  {
   "cell_type": "code",
   "execution_count": null,
   "id": "4bd0bc6d-cc02-4183-81ca-910b08f0b663",
   "metadata": {},
   "outputs": [],
   "source": []
  }
 ],
 "metadata": {
  "kernelspec": {
   "display_name": "Python 3 (ipykernel)",
   "language": "python",
   "name": "python3"
  },
  "language_info": {
   "codemirror_mode": {
    "name": "ipython",
    "version": 3
   },
   "file_extension": ".py",
   "mimetype": "text/x-python",
   "name": "python",
   "nbconvert_exporter": "python",
   "pygments_lexer": "ipython3",
   "version": "3.11.1"
  },
  "vscode": {
   "interpreter": {
    "hash": "369f2c481f4da34e4445cda3fffd2e751bd1c4d706f27375911949ba6bb62e1c"
   }
  }
 },
 "nbformat": 4,
 "nbformat_minor": 5
}
